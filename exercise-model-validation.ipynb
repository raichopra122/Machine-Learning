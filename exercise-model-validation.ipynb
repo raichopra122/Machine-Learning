{
 "cells": [
  {
   "cell_type": "markdown",
   "id": "figured-wrist",
   "metadata": {
    "papermill": {
     "duration": 0.014966,
     "end_time": "2021-04-01T05:01:32.914832",
     "exception": false,
     "start_time": "2021-04-01T05:01:32.899866",
     "status": "completed"
    },
    "tags": []
   },
   "source": [
    "**This notebook is an exercise in the [Introduction to Machine Learning](https://www.kaggle.com/learn/intro-to-machine-learning) course.  You can reference the tutorial at [this link](https://www.kaggle.com/dansbecker/model-validation).**\n",
    "\n",
    "---\n"
   ]
  },
  {
   "cell_type": "markdown",
   "id": "retained-gabriel",
   "metadata": {
    "papermill": {
     "duration": 0.011712,
     "end_time": "2021-04-01T05:01:32.938628",
     "exception": false,
     "start_time": "2021-04-01T05:01:32.926916",
     "status": "completed"
    },
    "tags": []
   },
   "source": [
    "## Recap\n",
    "You've built a model. In this exercise you will test how good your model is.\n",
    "\n",
    "Run the cell below to set up your coding environment where the previous exercise left off."
   ]
  },
  {
   "cell_type": "code",
   "execution_count": 1,
   "id": "simplified-kennedy",
   "metadata": {
    "execution": {
     "iopub.execute_input": "2021-04-01T05:01:32.972713Z",
     "iopub.status.busy": "2021-04-01T05:01:32.971907Z",
     "iopub.status.idle": "2021-04-01T05:01:34.443028Z",
     "shell.execute_reply": "2021-04-01T05:01:34.442324Z"
    },
    "papermill": {
     "duration": 1.492569,
     "end_time": "2021-04-01T05:01:34.443182",
     "exception": false,
     "start_time": "2021-04-01T05:01:32.950613",
     "status": "completed"
    },
    "tags": []
   },
   "outputs": [
    {
     "name": "stdout",
     "output_type": "stream",
     "text": [
      "First in-sample predictions: [208500. 181500. 223500. 140000. 250000.]\n",
      "Actual target values for those homes: [208500, 181500, 223500, 140000, 250000]\n",
      "Setup Complete\n"
     ]
    }
   ],
   "source": [
    "# Code you have previously used to load data\n",
    "import pandas as pd\n",
    "from sklearn.tree import DecisionTreeRegressor\n",
    "\n",
    "# Path of the file to read\n",
    "iowa_file_path = '../input/home-data-for-ml-course/train.csv'\n",
    "\n",
    "home_data = pd.read_csv(iowa_file_path)\n",
    "y = home_data.SalePrice\n",
    "feature_columns = ['LotArea', 'YearBuilt', '1stFlrSF', '2ndFlrSF', 'FullBath', 'BedroomAbvGr', 'TotRmsAbvGrd']\n",
    "X = home_data[feature_columns]\n",
    "\n",
    "# Specify Model\n",
    "iowa_model = DecisionTreeRegressor()\n",
    "# Fit Model\n",
    "iowa_model.fit(X, y)\n",
    "\n",
    "print(\"First in-sample predictions:\", iowa_model.predict(X.head()))\n",
    "print(\"Actual target values for those homes:\", y.head().tolist())\n",
    "\n",
    "# Set up code checking\n",
    "from learntools.core import binder\n",
    "binder.bind(globals())\n",
    "from learntools.machine_learning.ex4 import *\n",
    "print(\"Setup Complete\")"
   ]
  },
  {
   "cell_type": "markdown",
   "id": "reported-anxiety",
   "metadata": {
    "papermill": {
     "duration": 0.012027,
     "end_time": "2021-04-01T05:01:34.468219",
     "exception": false,
     "start_time": "2021-04-01T05:01:34.456192",
     "status": "completed"
    },
    "tags": []
   },
   "source": [
    "# Exercises\n",
    "\n",
    "## Step 1: Split Your Data\n",
    "Use the `train_test_split` function to split up your data.\n",
    "\n",
    "Give it the argument `random_state=1` so the `check` functions know what to expect when verifying your code.\n",
    "\n",
    "Recall, your features are loaded in the DataFrame **X** and your target is loaded in **y**.\n"
   ]
  },
  {
   "cell_type": "code",
   "execution_count": 2,
   "id": "illegal-definition",
   "metadata": {
    "execution": {
     "iopub.execute_input": "2021-04-01T05:01:34.500437Z",
     "iopub.status.busy": "2021-04-01T05:01:34.499719Z",
     "iopub.status.idle": "2021-04-01T05:01:34.528542Z",
     "shell.execute_reply": "2021-04-01T05:01:34.528024Z"
    },
    "papermill": {
     "duration": 0.047916,
     "end_time": "2021-04-01T05:01:34.528685",
     "exception": false,
     "start_time": "2021-04-01T05:01:34.480769",
     "status": "completed"
    },
    "tags": []
   },
   "outputs": [
    {
     "data": {
      "application/javascript": [
       "parent.postMessage({\"jupyterEvent\": \"custom.exercise_interaction\", \"data\": {\"outcomeType\": 1, \"valueTowardsCompletion\": 0.25, \"interactionType\": 1, \"questionType\": 2, \"questionId\": \"1_SplitData\", \"learnToolsVersion\": \"0.3.4\", \"failureMessage\": \"\", \"exceptionClass\": \"\", \"trace\": \"\"}}, \"*\")"
      ],
      "text/plain": [
       "<IPython.core.display.Javascript object>"
      ]
     },
     "metadata": {},
     "output_type": "display_data"
    },
    {
     "data": {
      "text/markdown": [
       "<span style=\"color:#33cc33\">Correct</span>"
      ],
      "text/plain": [
       "Correct"
      ]
     },
     "metadata": {},
     "output_type": "display_data"
    }
   ],
   "source": [
    "# Import the train_test_split function and uncomment\n",
    "from sklearn.model_selection import train_test_split\n",
    "\n",
    "\n",
    "# fill in and uncomment\n",
    "train_X, val_X, train_y, val_y = train_test_split(X, y, random_state = 1)\n",
    "\n",
    "# Check your answer\n",
    "step_1.check()"
   ]
  },
  {
   "cell_type": "code",
   "execution_count": 3,
   "id": "efficient-estimate",
   "metadata": {
    "execution": {
     "iopub.execute_input": "2021-04-01T05:01:34.559912Z",
     "iopub.status.busy": "2021-04-01T05:01:34.559174Z",
     "iopub.status.idle": "2021-04-01T05:01:34.562202Z",
     "shell.execute_reply": "2021-04-01T05:01:34.562775Z"
    },
    "papermill": {
     "duration": 0.020565,
     "end_time": "2021-04-01T05:01:34.562952",
     "exception": false,
     "start_time": "2021-04-01T05:01:34.542387",
     "status": "completed"
    },
    "tags": []
   },
   "outputs": [],
   "source": [
    "# The lines below will show you a hint or the solution.\n",
    "# step_1.hint() \n",
    "# step_1.solution()\n"
   ]
  },
  {
   "cell_type": "markdown",
   "id": "favorite-snowboard",
   "metadata": {
    "papermill": {
     "duration": 0.014684,
     "end_time": "2021-04-01T05:01:34.591561",
     "exception": false,
     "start_time": "2021-04-01T05:01:34.576877",
     "status": "completed"
    },
    "tags": []
   },
   "source": [
    "## Step 2: Specify and Fit the Model\n",
    "\n",
    "Create a `DecisionTreeRegressor` model and fit it to the relevant data.\n",
    "Set `random_state` to 1 again when creating the model."
   ]
  },
  {
   "cell_type": "code",
   "execution_count": 4,
   "id": "requested-broadcasting",
   "metadata": {
    "execution": {
     "iopub.execute_input": "2021-04-01T05:01:34.622289Z",
     "iopub.status.busy": "2021-04-01T05:01:34.621581Z",
     "iopub.status.idle": "2021-04-01T05:01:34.651066Z",
     "shell.execute_reply": "2021-04-01T05:01:34.651777Z"
    },
    "papermill": {
     "duration": 0.046836,
     "end_time": "2021-04-01T05:01:34.651959",
     "exception": false,
     "start_time": "2021-04-01T05:01:34.605123",
     "status": "completed"
    },
    "tags": []
   },
   "outputs": [
    {
     "name": "stdout",
     "output_type": "stream",
     "text": [
      "[186500. 184000. 130000.  92000. 164500. 220000. 335000. 144152. 215000.\n",
      " 262000.]\n",
      "[186500. 184000. 130000.  92000. 164500. 220000. 335000. 144152. 215000.\n",
      " 262000.]\n"
     ]
    },
    {
     "data": {
      "application/javascript": [
       "parent.postMessage({\"jupyterEvent\": \"custom.exercise_interaction\", \"data\": {\"outcomeType\": 1, \"valueTowardsCompletion\": 0.25, \"interactionType\": 1, \"questionType\": 2, \"questionId\": \"2_FitModelWithTrain\", \"learnToolsVersion\": \"0.3.4\", \"failureMessage\": \"\", \"exceptionClass\": \"\", \"trace\": \"\"}}, \"*\")"
      ],
      "text/plain": [
       "<IPython.core.display.Javascript object>"
      ]
     },
     "metadata": {},
     "output_type": "display_data"
    },
    {
     "data": {
      "text/markdown": [
       "<span style=\"color:#33cc33\">Correct</span>"
      ],
      "text/plain": [
       "Correct"
      ]
     },
     "metadata": {},
     "output_type": "display_data"
    }
   ],
   "source": [
    "# You imported DecisionTreeRegressor in your last exercise\n",
    "# and that code has been copied to the setup code above. So, no need to\n",
    "# import it again\n",
    "\n",
    "# Specify the model\n",
    "iowa_model = DecisionTreeRegressor(random_state = 1)\n",
    "\n",
    "# Fit iowa_model with the training data.\n",
    "iowa_model.fit(train_X, train_y)\n",
    "\n",
    "# Check your answer\n",
    "step_2.check()"
   ]
  },
  {
   "cell_type": "code",
   "execution_count": 5,
   "id": "indie-forwarding",
   "metadata": {
    "execution": {
     "iopub.execute_input": "2021-04-01T05:01:34.687174Z",
     "iopub.status.busy": "2021-04-01T05:01:34.686554Z",
     "iopub.status.idle": "2021-04-01T05:01:34.691970Z",
     "shell.execute_reply": "2021-04-01T05:01:34.691375Z"
    },
    "papermill": {
     "duration": 0.024988,
     "end_time": "2021-04-01T05:01:34.692105",
     "exception": false,
     "start_time": "2021-04-01T05:01:34.667117",
     "status": "completed"
    },
    "tags": []
   },
   "outputs": [
    {
     "data": {
      "application/javascript": [
       "parent.postMessage({\"jupyterEvent\": \"custom.exercise_interaction\", \"data\": {\"interactionType\": 3, \"questionType\": 2, \"questionId\": \"2_FitModelWithTrain\", \"learnToolsVersion\": \"0.3.4\", \"valueTowardsCompletion\": 0.0, \"failureMessage\": \"\", \"exceptionClass\": \"\", \"trace\": \"\", \"outcomeType\": 4}}, \"*\")"
      ],
      "text/plain": [
       "<IPython.core.display.Javascript object>"
      ]
     },
     "metadata": {},
     "output_type": "display_data"
    },
    {
     "data": {
      "text/markdown": [
       "<span style=\"color:#33cc99\">Solution:</span> \n",
       "```python\n",
       "iowa_model = DecisionTreeRegressor(random_state=1)\n",
       "iowa_model.fit(train_X, train_y)\n",
       "```"
      ],
      "text/plain": [
       "Solution: \n",
       "```python\n",
       "iowa_model = DecisionTreeRegressor(random_state=1)\n",
       "iowa_model.fit(train_X, train_y)\n",
       "```"
      ]
     },
     "metadata": {},
     "output_type": "display_data"
    }
   ],
   "source": [
    "# step_2.hint()\n",
    "step_2.solution()"
   ]
  },
  {
   "cell_type": "markdown",
   "id": "finished-gateway",
   "metadata": {
    "papermill": {
     "duration": 0.015643,
     "end_time": "2021-04-01T05:01:34.724110",
     "exception": false,
     "start_time": "2021-04-01T05:01:34.708467",
     "status": "completed"
    },
    "tags": []
   },
   "source": [
    "## Step 3: Make Predictions with Validation data\n"
   ]
  },
  {
   "cell_type": "code",
   "execution_count": 6,
   "id": "organizational-visibility",
   "metadata": {
    "execution": {
     "iopub.execute_input": "2021-04-01T05:01:34.765033Z",
     "iopub.status.busy": "2021-04-01T05:01:34.764327Z",
     "iopub.status.idle": "2021-04-01T05:01:34.769298Z",
     "shell.execute_reply": "2021-04-01T05:01:34.769790Z"
    },
    "papermill": {
     "duration": 0.029901,
     "end_time": "2021-04-01T05:01:34.769998",
     "exception": false,
     "start_time": "2021-04-01T05:01:34.740097",
     "status": "completed"
    },
    "tags": []
   },
   "outputs": [
    {
     "data": {
      "application/javascript": [
       "parent.postMessage({\"jupyterEvent\": \"custom.exercise_interaction\", \"data\": {\"outcomeType\": 1, \"valueTowardsCompletion\": 0.25, \"interactionType\": 1, \"questionType\": 2, \"questionId\": \"3_ValPreds\", \"learnToolsVersion\": \"0.3.4\", \"failureMessage\": \"\", \"exceptionClass\": \"\", \"trace\": \"\"}}, \"*\")"
      ],
      "text/plain": [
       "<IPython.core.display.Javascript object>"
      ]
     },
     "metadata": {},
     "output_type": "display_data"
    },
    {
     "data": {
      "text/markdown": [
       "<span style=\"color:#33cc33\">Correct</span>"
      ],
      "text/plain": [
       "Correct"
      ]
     },
     "metadata": {},
     "output_type": "display_data"
    }
   ],
   "source": [
    "# Predict with all validation observations\n",
    "val_predictions = iowa_model.predict(val_X)\n",
    "\n",
    "# Check your answer\n",
    "step_3.check()"
   ]
  },
  {
   "cell_type": "code",
   "execution_count": 7,
   "id": "thermal-packaging",
   "metadata": {
    "execution": {
     "iopub.execute_input": "2021-04-01T05:01:34.810294Z",
     "iopub.status.busy": "2021-04-01T05:01:34.809170Z",
     "iopub.status.idle": "2021-04-01T05:01:34.812654Z",
     "shell.execute_reply": "2021-04-01T05:01:34.811958Z"
    },
    "papermill": {
     "duration": 0.025236,
     "end_time": "2021-04-01T05:01:34.812799",
     "exception": false,
     "start_time": "2021-04-01T05:01:34.787563",
     "status": "completed"
    },
    "tags": []
   },
   "outputs": [],
   "source": [
    "# step_3.hint()\n",
    "# step_3.solution()\n"
   ]
  },
  {
   "cell_type": "markdown",
   "id": "satisfied-johnson",
   "metadata": {
    "papermill": {
     "duration": 0.018058,
     "end_time": "2021-04-01T05:01:34.848677",
     "exception": false,
     "start_time": "2021-04-01T05:01:34.830619",
     "status": "completed"
    },
    "tags": []
   },
   "source": [
    "Inspect your predictions and actual values from validation data."
   ]
  },
  {
   "cell_type": "code",
   "execution_count": 8,
   "id": "unable-invitation",
   "metadata": {
    "execution": {
     "iopub.execute_input": "2021-04-01T05:01:34.891600Z",
     "iopub.status.busy": "2021-04-01T05:01:34.890738Z",
     "iopub.status.idle": "2021-04-01T05:01:34.894206Z",
     "shell.execute_reply": "2021-04-01T05:01:34.895094Z"
    },
    "papermill": {
     "duration": 0.029056,
     "end_time": "2021-04-01T05:01:34.895354",
     "exception": false,
     "start_time": "2021-04-01T05:01:34.866298",
     "status": "completed"
    },
    "tags": []
   },
   "outputs": [
    {
     "name": "stdout",
     "output_type": "stream",
     "text": [
      "[186500. 184000. 130000.  92000. 164500.]\n",
      "258     231500\n",
      "267     179500\n",
      "288     122000\n",
      "649      84500\n",
      "1233    142000\n",
      "Name: SalePrice, dtype: int64\n"
     ]
    }
   ],
   "source": [
    "# print the top few validation predictions\n",
    "print(val_predictions[0:5])\n",
    "# print the top few actual prices from validation data\n",
    "print(val_y[0:5])"
   ]
  },
  {
   "cell_type": "markdown",
   "id": "noble-siemens",
   "metadata": {
    "papermill": {
     "duration": 0.017637,
     "end_time": "2021-04-01T05:01:34.933299",
     "exception": false,
     "start_time": "2021-04-01T05:01:34.915662",
     "status": "completed"
    },
    "tags": []
   },
   "source": [
    "What do you notice that is different from what you saw with in-sample predictions (which are printed after the top code cell in this page).\n",
    "\n",
    "Do you remember why validation predictions differ from in-sample (or training) predictions? This is an important idea from the last lesson.\n",
    "\n",
    "## Step 4: Calculate the Mean Absolute Error in Validation Data\n"
   ]
  },
  {
   "cell_type": "code",
   "execution_count": 9,
   "id": "threaded-question",
   "metadata": {
    "execution": {
     "iopub.execute_input": "2021-04-01T05:01:34.976684Z",
     "iopub.status.busy": "2021-04-01T05:01:34.975940Z",
     "iopub.status.idle": "2021-04-01T05:01:34.984997Z",
     "shell.execute_reply": "2021-04-01T05:01:34.984296Z"
    },
    "papermill": {
     "duration": 0.033955,
     "end_time": "2021-04-01T05:01:34.985158",
     "exception": false,
     "start_time": "2021-04-01T05:01:34.951203",
     "status": "completed"
    },
    "tags": []
   },
   "outputs": [
    {
     "name": "stdout",
     "output_type": "stream",
     "text": [
      "29652.931506849316\n"
     ]
    },
    {
     "data": {
      "application/javascript": [
       "parent.postMessage({\"jupyterEvent\": \"custom.exercise_interaction\", \"data\": {\"outcomeType\": 1, \"valueTowardsCompletion\": 0.25, \"interactionType\": 1, \"questionType\": 1, \"questionId\": \"4_MAE\", \"learnToolsVersion\": \"0.3.4\", \"failureMessage\": \"\", \"exceptionClass\": \"\", \"trace\": \"\"}}, \"*\")"
      ],
      "text/plain": [
       "<IPython.core.display.Javascript object>"
      ]
     },
     "metadata": {},
     "output_type": "display_data"
    },
    {
     "data": {
      "text/markdown": [
       "<span style=\"color:#33cc33\">Correct</span>"
      ],
      "text/plain": [
       "Correct"
      ]
     },
     "metadata": {},
     "output_type": "display_data"
    }
   ],
   "source": [
    "from sklearn.metrics import mean_absolute_error\n",
    "val_mae = mean_absolute_error(val_y, val_predictions)\n",
    "\n",
    "# uncomment following line to see the validation_mae\n",
    "print(val_mae)\n",
    "\n",
    "# Check your answer\n",
    "step_4.check()"
   ]
  },
  {
   "cell_type": "code",
   "execution_count": 10,
   "id": "fancy-layout",
   "metadata": {
    "execution": {
     "iopub.execute_input": "2021-04-01T05:01:35.028611Z",
     "iopub.status.busy": "2021-04-01T05:01:35.027907Z",
     "iopub.status.idle": "2021-04-01T05:01:35.031720Z",
     "shell.execute_reply": "2021-04-01T05:01:35.032180Z"
    },
    "papermill": {
     "duration": 0.02691,
     "end_time": "2021-04-01T05:01:35.032388",
     "exception": false,
     "start_time": "2021-04-01T05:01:35.005478",
     "status": "completed"
    },
    "tags": []
   },
   "outputs": [],
   "source": [
    "# step_4.hint()\n",
    "# step_4.solution()"
   ]
  },
  {
   "cell_type": "markdown",
   "id": "global-concord",
   "metadata": {
    "papermill": {
     "duration": 0.019335,
     "end_time": "2021-04-01T05:01:35.071530",
     "exception": false,
     "start_time": "2021-04-01T05:01:35.052195",
     "status": "completed"
    },
    "tags": []
   },
   "source": [
    "Is that MAE good?  There isn't a general rule for what values are good that applies across applications. But you'll see how to use (and improve) this number in the next step.\n",
    "\n",
    "# Keep Going\n",
    "\n",
    "You are ready for **[Underfitting and Overfitting](https://www.kaggle.com/dansbecker/underfitting-and-overfitting).**\n"
   ]
  },
  {
   "cell_type": "markdown",
   "id": "amber-consciousness",
   "metadata": {
    "papermill": {
     "duration": 0.019491,
     "end_time": "2021-04-01T05:01:35.110403",
     "exception": false,
     "start_time": "2021-04-01T05:01:35.090912",
     "status": "completed"
    },
    "tags": []
   },
   "source": [
    "---\n",
    "\n",
    "\n",
    "\n",
    "\n",
    "*Have questions or comments? Visit the [Learn Discussion forum](https://www.kaggle.com/learn-forum/161285) to chat with other Learners.*"
   ]
  }
 ],
 "metadata": {
  "kernelspec": {
   "display_name": "Python 3",
   "language": "python",
   "name": "python3"
  },
  "language_info": {
   "codemirror_mode": {
    "name": "ipython",
    "version": 3
   },
   "file_extension": ".py",
   "mimetype": "text/x-python",
   "name": "python",
   "nbconvert_exporter": "python",
   "pygments_lexer": "ipython3",
   "version": "3.7.9"
  },
  "papermill": {
   "default_parameters": {},
   "duration": 9.385005,
   "end_time": "2021-04-01T05:01:35.843289",
   "environment_variables": {},
   "exception": null,
   "input_path": "__notebook__.ipynb",
   "output_path": "__notebook__.ipynb",
   "parameters": {},
   "start_time": "2021-04-01T05:01:26.458284",
   "version": "2.3.2"
  }
 },
 "nbformat": 4,
 "nbformat_minor": 5
}
